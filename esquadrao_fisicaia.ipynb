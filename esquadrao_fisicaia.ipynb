{
  "nbformat": 4,
  "nbformat_minor": 0,
  "metadata": {
    "colab": {
      "provenance": [],
      "authorship_tag": "ABX9TyP8BP6IvJQ59bueF6lhprNl",
      "include_colab_link": true
    },
    "kernelspec": {
      "name": "python3",
      "display_name": "Python 3"
    },
    "language_info": {
      "name": "python"
    }
  },
  "cells": [
    {
      "cell_type": "markdown",
      "metadata": {
        "id": "view-in-github",
        "colab_type": "text"
      },
      "source": [
        "<a href=\"https://colab.research.google.com/github/hansufsm/FisicaIA/blob/main/esquadrao_fisicaia.ipynb\" target=\"_parent\"><img src=\"https://colab.research.google.com/assets/colab-badge.svg\" alt=\"Open In Colab\"/></a>"
      ]
    },
    {
      "cell_type": "markdown",
      "source": [
        "# 🎓 Projeto: Agentes IA para Estudantes Universitários\n",
        "---\n",
        "\n",
        "## 💡 Proposta: Sistema Colaborativo de Resolução de Problemas Físicos (Esquadrão Física IA)\n",
        "Um sistema de múltiplos agentes que ajuda estudantes a resolver problemas complexos de física, especialmente em eletricidade e magnetismo, com visualização, explicação passo a passo e conexão com aplicações do mundo real.\n",
        "\n",
        "## 🧠 Estrutura dos Agentes (4 agentes especializados)\n",
        "\n",
        "\n",
        "1. Agente Interpretador de Problemas\n",
        "  * Analisa o enunciado do problema\n",
        "  * Analisa o enunciado do problema\n",
        "  * Identifica as variáveis, constantes e equações relevantes\n",
        "  * Classifica o tipo de problema (eletrostática, circuitos, magnetismo, etc.)\n",
        "  * Sugere abordagens de resolução\n",
        "\n",
        "2. Agente Solucionador Matemático\n",
        "  * Desenvolve a solução matemática passo a passo\n",
        "  * Realiza cálculos e manipulações algébricas\n",
        "  * Verifica unidades e consistência dimensional\n",
        "  * Fornece resultados numéricos precisos\n",
        "\n",
        "3. Agente Visualizador\n",
        "  * Cria representações visuais do problema (diagramas de circuitos, campos, etc.)\n",
        "  * Gera gráficos interativos para visualizar relações entre variáveis\n",
        "  * Produz animações simples para demonstrar conceitos dinâmicos\n",
        "  * Adapta visualizações para diferentes estilos de aprendizagem\n",
        "\n",
        "4. Agente Contextualizador\n",
        "  * Conecta o problema a aplicações do mundo real\n",
        "  * Fornece exemplos de tecnologias relacionadas\n",
        "  * Sugere experimentos práticos que os estudantes podem realizar\n",
        "  * Relaciona o problema com outros tópicos da física\n",
        "\n",
        "\n",
        "## 📌 Aplicações possíveis:\n",
        "  * Ferramenta de apoio para seus alunos.\n",
        "  * Extensão para projetos de iniciação científica.\n",
        "  * Base para um TCC interdisciplinar (Física + Computação + Educação).\n",
        "\n",
        "## 🚀 Por que é bacana?\n",
        "  * Usa IA com valor educacional real.\n",
        "  * Estimula pensamento computacional e autonomia.\n",
        "  * Pode ser implementado em ciclos pequenos e escalado com mais IA no futuro.\n",
        "\n",
        "---\n"
      ],
      "metadata": {
        "id": "IUnlOaLlNHEr"
      }
    },
    {
      "cell_type": "code",
      "source": [
        "# Esquadrão FisicaIA - Sistema Colaborativo de Resolução de Problemas Físicos\n",
        "# Desenvolvido por Prof. Hans Rogério Zimermann\n",
        "# Implementação de 4 agentes especializados usando Gemini API\n",
        "\n",
        "# ===== CONFIGURAÇÃO INICIAL =====\n",
        "\n",
        "# Instalação das bibliotecas necessárias\n",
        "!pip install -q google-generativeai genai streamlit matplotlib numpy pillow plotly\n",
        "\n",
        "import os\n",
        "from google import genai\n",
        "import json\n",
        "import time\n",
        "import numpy as np\n",
        "import matplotlib.pyplot as plt\n",
        "import base64\n",
        "from io import BytesIO\n",
        "import plotly.graph_objects as go\n",
        "from PIL import Image\n",
        "import re\n",
        "import threading\n",
        "import queue\n"
      ],
      "metadata": {
        "id": "2dLY1e7FPNvS"
      },
      "execution_count": 29,
      "outputs": []
    },
    {
      "cell_type": "code",
      "source": [
        "from google.colab import userdata\n",
        "import os\n",
        "os.environ['GOOGLE_API_KEY'] = userdata.get('GOOGLE_API_KEY')\n",
        "\n",
        "client = genai.Client()\n",
        "\n",
        "# Listando os Modelos\n",
        "\n",
        "#for model in client.models.list():\n",
        "#  print(model.name)\n",
        "\n",
        "# Criar uma variável para armazenar o Modelo a ser usado\n",
        "modelo = \"models/gemini-2.0-flash\""
      ],
      "metadata": {
        "id": "ccJiehkfPRJy",
        "colab": {
          "base_uri": "https://localhost:8080/"
        },
        "outputId": "be546f81-46b1-4428-a538-cedebcdbeaf5"
      },
      "execution_count": 38,
      "outputs": [
        {
          "output_type": "stream",
          "name": "stdout",
          "text": [
            "models/embedding-gecko-001\n",
            "models/gemini-1.0-pro-vision-latest\n",
            "models/gemini-pro-vision\n",
            "models/gemini-1.5-pro-latest\n",
            "models/gemini-1.5-pro-001\n",
            "models/gemini-1.5-pro-002\n",
            "models/gemini-1.5-pro\n",
            "models/gemini-1.5-flash-latest\n",
            "models/gemini-1.5-flash-001\n",
            "models/gemini-1.5-flash-001-tuning\n",
            "models/gemini-1.5-flash\n",
            "models/gemini-1.5-flash-002\n",
            "models/gemini-1.5-flash-8b\n",
            "models/gemini-1.5-flash-8b-001\n",
            "models/gemini-1.5-flash-8b-latest\n",
            "models/gemini-1.5-flash-8b-exp-0827\n",
            "models/gemini-1.5-flash-8b-exp-0924\n",
            "models/gemini-2.5-pro-exp-03-25\n",
            "models/gemini-2.5-pro-preview-03-25\n",
            "models/gemini-2.5-flash-preview-04-17\n",
            "models/gemini-2.5-flash-preview-04-17-thinking\n",
            "models/gemini-2.5-pro-preview-05-06\n",
            "models/gemini-2.0-flash-exp\n",
            "models/gemini-2.0-flash\n",
            "models/gemini-2.0-flash-001\n",
            "models/gemini-2.0-flash-exp-image-generation\n",
            "models/gemini-2.0-flash-lite-001\n",
            "models/gemini-2.0-flash-lite\n",
            "models/gemini-2.0-flash-preview-image-generation\n",
            "models/gemini-2.0-flash-lite-preview-02-05\n",
            "models/gemini-2.0-flash-lite-preview\n",
            "models/gemini-2.0-pro-exp\n",
            "models/gemini-2.0-pro-exp-02-05\n",
            "models/gemini-exp-1206\n",
            "models/gemini-2.0-flash-thinking-exp-01-21\n",
            "models/gemini-2.0-flash-thinking-exp\n",
            "models/gemini-2.0-flash-thinking-exp-1219\n",
            "models/learnlm-2.0-flash-experimental\n",
            "models/gemma-3-1b-it\n",
            "models/gemma-3-4b-it\n",
            "models/gemma-3-12b-it\n",
            "models/gemma-3-27b-it\n",
            "models/embedding-001\n",
            "models/text-embedding-004\n",
            "models/gemini-embedding-exp-03-07\n",
            "models/gemini-embedding-exp\n",
            "models/aqa\n",
            "models/imagen-3.0-generate-002\n",
            "models/gemini-2.0-flash-live-001\n"
          ]
        }
      ]
    },
    {
      "cell_type": "code",
      "source": [
        "# Instalar Framework ADK de agentes do Google ##################################\n",
        "\n",
        "!pip install -q google-adk"
      ],
      "metadata": {
        "id": "hHUlHnZeP512"
      },
      "execution_count": 31,
      "outputs": []
    },
    {
      "cell_type": "code",
      "source": [
        "from google.adk.agents import Agent\n",
        "from google.adk.runners import Runner\n",
        "from google.adk.sessions import InMemorySessionService\n",
        "from google.adk.tools import google_search\n",
        "from google.genai import types  # Para criar conteúdos (Content e Part)\n",
        "from datetime import date\n",
        "import textwrap # Para formatar melhor a saída de texto\n",
        "from IPython.display import display, Markdown # Para exibir texto formatado no Colab\n",
        "import requests # Para fazer requisições HTTP\n",
        "import warnings\n",
        "\n",
        "warnings.filterwarnings(\"ignore\")"
      ],
      "metadata": {
        "id": "go2Pu7S7QUQE"
      },
      "execution_count": 32,
      "outputs": []
    },
    {
      "cell_type": "code",
      "source": [
        "# Função auxiliar que envia uma mensagem para um agente via Runner e retorna a resposta final\n",
        "def call_agent(agent: Agent, message_text: str) -> str:\n",
        "    # Cria um serviço de sessão em memória\n",
        "    session_service = InMemorySessionService()\n",
        "    # Cria uma nova sessão (você pode personalizar os IDs conforme necessário)\n",
        "    session = session_service.create_session(app_name=agent.name, user_id=\"user1\", session_id=\"session1\")\n",
        "    # Cria um Runner para o agente\n",
        "    runner = Runner(agent=agent, app_name=agent.name, session_service=session_service)\n",
        "    # Cria o conteúdo da mensagem de entrada\n",
        "    content = types.Content(role=\"user\", parts=[types.Part(text=message_text)])\n",
        "\n",
        "    final_response = \"\"\n",
        "    # Itera assincronamente pelos eventos retornados durante a execução do agente\n",
        "    for event in runner.run(user_id=\"user1\", session_id=\"session1\", new_message=content):\n",
        "        if event.is_final_response():\n",
        "          for part in event.content.parts:\n",
        "            if part.text is not None:\n",
        "              final_response += part.text\n",
        "              final_response += \"\\n\"\n",
        "    return final_response"
      ],
      "metadata": {
        "id": "0rfQhi17QW8z"
      },
      "execution_count": 33,
      "outputs": []
    },
    {
      "cell_type": "code",
      "source": [
        "# Função auxiliar para exibir texto formatado em Markdown no Colab\n",
        "def to_markdown(text):\n",
        "  text = text.replace('•', '  *')\n",
        "  return Markdown(textwrap.indent(text, '> ', predicate=lambda _: True))"
      ],
      "metadata": {
        "id": "JAr4OXCZQaLT"
      },
      "execution_count": 34,
      "outputs": []
    },
    {
      "cell_type": "code",
      "source": [
        "# Definição dos Agentes\n",
        "\n",
        "################################################\n",
        "# --- Agente 1: Interpretador de Problemas --- #\n",
        "################################################\n",
        "def agente_interpretador(topico):\n",
        "  interpretador = Agent(\n",
        "      name=\"agente_interpretador_de_problemas\",\n",
        "      model=\"gemini-2.0-flash\",\n",
        "      instruction=\"\"\"\n",
        "      Você é um Agente Interpretador de Problemas de Física especializado em analisar enunciados.\n",
        "      Sua função é:\n",
        "      1. Analisar o enunciado do problema\n",
        "      2. Classificar o tipo de problema (eletrostática, circuitos, magnetismo, etc.)\n",
        "      3. Identificar e Extrair todas as variáveis, constantes e unidades mencionadas\n",
        "      4. Listar as equações relevantes para a solução\n",
        "      5. Sugerir uma abordagem metodológica para resolver o problema\n",
        "\n",
        "      Use o formato latex quando envolver expressões matemáticas. Quando for o caso ou possível.\n",
        "\n",
        "      \"\"\",\n",
        "      description=\"Interpretador de Problemas sobre o tópico indicado\",\n",
        "      tools=[google_search]\n",
        "  )\n",
        "\n",
        "  entrada_do_agente_interpretador = f\"Tópico: {topico}\\n\"\n",
        "  # Executa o agente\n",
        "  interpretacao_do_problema = call_agent(interpretador, entrada_do_agente_interpretador)\n",
        "  return interpretacao_do_problema\n",
        "\n",
        "################################################\n",
        "# --- Agente 2: Interpretador de Problemas --- #\n",
        "################################################\n",
        "# O Agente Solucionador desenvolve a solução matemática\n",
        "\n",
        "def agente_solucionador(topico):\n",
        "    solucionador = Agent(\n",
        "        name=\"agente_solucionador\",\n",
        "        model=\"gemini-2.0-flash\",\n",
        "        # Inserir as instruções do Agente Planejador #################################################\n",
        "        # Definição do papel do solucionador\n",
        "        instruction=\"\"\"\n",
        "        Você é um Agente Solucionador Matemático especializado em física.\n",
        "        Sua função é:\n",
        "        1. Desenvolver a solução matemática passo a passo\n",
        "        2. Realizar todos os cálculos necessários\n",
        "        3. Verificar unidades e consistência dimensional\n",
        "        4. Fornecer o resultado final com unidades corretas\n",
        "        Use o formato latex quando envolver expressões matemáticas. Quando for o caso ou possível.\n",
        "        \"\"\",\n",
        "        description=\"Agente solucionador\",\n",
        "        tools=[google_search]\n",
        "    )\n",
        "\n",
        "    entrada_do_agente_solucionador = f\"\\n\\nEnunciado: {topico}\\n\"\n",
        "    # Executa o agente\n",
        "    plano_de_solucao = call_agent(solucionador, entrada_do_agente_solucionador)\n",
        "    return plano_de_solucao\n",
        "\n",
        "################################################\n",
        "# --- Agente 3: Visualizador de problemas  --- #\n",
        "################################################\n",
        "# O Agente Visualizador cria representações visuais\n",
        "\n",
        "def agente_visualizador(topico):\n",
        "    visualizador = Agent(\n",
        "        name=\"agente_visualizador\",\n",
        "        model=\"gemini-2.0-flash\",\n",
        "        # Inserir as instruções do Agente Planejador #################################################\n",
        "        # Definição do papel do solucionador\n",
        "        instruction=\"\"\"\n",
        "        Você é um Agente Visualizador especializado em criar representações visuais de problemas de física.\n",
        "        Use o formato latex quando envolver expressões matemáticas. Quando for o caso ou possível.\n",
        "        Sua função é:\n",
        "        1. Gerar código Python para criar diagramas, gráficos ou visualizações relevantes\n",
        "        2. Adaptar as visualizações ao tipo específico de problema\n",
        "        3. Garantir que as visualizações sejam claras e informativas\n",
        "\n",
        "        Formate sua resposta com blocos de código Python executáveis usando matplotlib, plotly ou outras bibliotecas.\n",
        "        Inclua também uma descrição do que cada visualização representa.\n",
        "\n",
        "        Para cada visualização, forneça:\n",
        "        1. Uma descrição do que está sendo visualizado\n",
        "        2. O código Python completo para gerar a visualização\n",
        "        3. Uma explicação de como interpretar a visualização\n",
        "        \"\"\",\n",
        "        description=\"Agente visualizador\",\n",
        "        tools=[google_search]\n",
        "    )\n",
        "\n",
        "    entrada_do_agente_visualizador = f\"\\nVisualização: {topico}\\n\"\n",
        "    # Executa o agente\n",
        "    plano_de_visualizacao = call_agent(visualizador, entrada_do_agente_visualizador)\n",
        "    return plano_de_visualizacao\n",
        "\n",
        "################################################\n",
        "# --- Agente 3: Visualizador de problemas  --- #\n",
        "################################################\n",
        "# O Agente Contextualizador adiciona aplicações práticas\n",
        "\n",
        "def agente_contextualizador(topico):\n",
        "    contextualizador = Agent(\n",
        "        name=\"agente_contextualizador\",\n",
        "        model=\"gemini-2.5-pro-preview-03-25\",\n",
        "        # Inserir as instruções do Agente Planejador #################################################\n",
        "        # Definição do papel do solucionador\n",
        "        instruction=\"\"\"\n",
        "        Você é um Agente Contextualizador de Problemas de Física especializado em analisar enunciados e\n",
        "        adiciona aplicações práticas e outras informações de sua existência no quotidiano.\n",
        "        Sua função é:\n",
        "        1. Analisar enunciados  indicar de qual área e ramo da Física o problema se refere e adiciona aplicações práticas, criando um contexto profissional e didático para o estudante\n",
        "        2. Sugerir pelo menos 3 links sobre o assunto do tópico que estejam hospedados em universidades federais.\n",
        "        3. Adicionalmente sugira 1 video do youtube para o estudante complementar seu conhecimento avançado.\n",
        "        4. Adicionalmente você pode sugerir 1 ou 2 exercícios extras (nivel médio e um desafiador) para o estudante praticar e aprimorar suas habilidades.\n",
        "        5. Adicione de 2 a 5 imagens, no máximo, de contexto se possível.\n",
        "        Ao apresentarr os resultados, use o formato latex quando envolver expressões matemáticas quando for o caso ou possível para que a apresentação das equações e expressões seja clara e didática.\n",
        "        Pode inserir emojis (não exagerar) no pontos mais importantes para enfatizar sua importãncia ou relevância.\n",
        "        \"\"\",\n",
        "        description=\"Agente contextualizador\",\n",
        "        tools=[google_search]\n",
        "    )\n",
        "\n",
        "    entrada_do_agente_contextualizador = f\"\\nContexto: {topico}\\n\"\n",
        "    # Executa o agente\n",
        "    plano_de_contexto = call_agent(contextualizador, entrada_do_agente_contextualizador)\n",
        "    return plano_de_contexto\n",
        ""
      ],
      "metadata": {
        "id": "Czy_Sw9NQcaT"
      },
      "execution_count": 39,
      "outputs": []
    },
    {
      "cell_type": "markdown",
      "source": [
        "# Principal"
      ],
      "metadata": {
        "id": "mOsQgUG8SPx6"
      }
    },
    {
      "cell_type": "code",
      "source": [
        "display(to_markdown(\"# 🚀 Iniciando o Sistema Colaborativo de Resolução de Problemas Físicos com 4 Agentes (🤖 - Esquadrão Física IA)\"))\n",
        "\n",
        "# --- Obter o Tópico do Usuário ---\n",
        "topico = input(\"❓ Por favor, digite o enuciado do problema de Física: \\n Exemplo: Qual é o campo elétrico a 0.2 m de uma carga de 2 μC? \\n Um circuito elétrico contém uma bateria de 12V e um resistor de 4 ohms. Qual é a corrente no circuito?\")\n",
        "\n",
        "# Inserir lógica do sistema de agentes ################################################\n",
        "\n",
        "if not topico:\n",
        "  print(\"Por favor informe um enunciado!\")\n",
        "else:\n",
        "  display(to_markdown(\"## 👏 Ótimo \"))\n",
        "  print(f\"Vamos resolver juntos: - {topico}!\")\n",
        "\n",
        "# Dicas:\n",
        "# Qual é o campo elétrico a 0.2 m de uma carga de 2 μC?\n",
        "#\n",
        "\n",
        "  # alimenta o Agente 1 - agente_interpretador() com o problema (topico)\n",
        "  problema_fisica = agente_interpretador(topico)\n",
        "  print(\"\\n\")\n",
        "  display(to_markdown(\"*--- Resposta do **Agente 1**: (Interpretador) ---*\"))\n",
        "  display(to_markdown(problema_fisica))\n",
        "  print(\"-----------------------------------------------\")\n",
        "\n",
        "  # alimenta o Agente 2 - agente_solucionador() com a resposta do Agente 1 (problema_fisica)\n",
        "  plano_de_solucao = agente_solucionador(problema_fisica)\n",
        "  print(\"\\n\")\n",
        "  display(to_markdown(\"*--- Resposta do **Agente 2**: (Solucionador) ---*\"))\n",
        "  display(to_markdown(plano_de_solucao))\n",
        "\n",
        "  # alimenta o Agente 3 - agente_visualizador() com a resposta do Agente 2 (plano_de_solucao)\n",
        "  plano_de_visualizacao = agente_visualizador(plano_de_solucao)\n",
        "  print(\"\\n\")\n",
        "  display(to_markdown(\"*--- Resposta do **Agente 3**: (Visualizador) ---*\"))\n",
        "  display(to_markdown(plano_de_visualizacao))\n",
        "\n",
        "  # alimenta o Agente 4 - agente_contextualizador() com a resposta do Agente 1 (problema_fisica)\n",
        "  plano_de_contexto = agente_contextualizador(problema_fisica)\n",
        "  print(\"\\n\")\n",
        "  display(to_markdown(\"*--- Resposta do **Agente 4**: (contextualizador) ---*\"))\n",
        "  display(to_markdown(\"### 🌍 Contextualização e Aplicações:\\n\"))\n",
        "  display(to_markdown(plano_de_contexto))\n",
        "\n",
        "\n",
        "\n"
      ],
      "metadata": {
        "id": "-S8zBFALSSYT",
        "colab": {
          "base_uri": "https://localhost:8080/",
          "height": 1000
        },
        "outputId": "ef496ca5-3082-4f54-9b93-dda64c8e3286"
      },
      "execution_count": 36,
      "outputs": [
        {
          "output_type": "display_data",
          "data": {
            "text/plain": [
              "<IPython.core.display.Markdown object>"
            ],
            "text/markdown": "> # 🚀 Iniciando o Sistema Colaborativo de Resolução de Problemas Físicos com 4 Agentes (🤖 - Esquadrão Física IA)"
          },
          "metadata": {}
        },
        {
          "name": "stdout",
          "output_type": "stream",
          "text": [
            "❓ Por favor, digite o enuciado do problema de Física: \n",
            " Exemplo: Qual é o campo elétrico a 0.2 m de uma carga de 2 μC? \n",
            " Um circuito elétrico contém uma bateria de 12V e um resistor de 4 ohms. Qual é a corrente no circuito?Qual é o campo elétrico a 0.2 m de uma carga de 2 μC? \n"
          ]
        },
        {
          "output_type": "display_data",
          "data": {
            "text/plain": [
              "<IPython.core.display.Markdown object>"
            ],
            "text/markdown": "> ## Ótimo "
          },
          "metadata": {}
        },
        {
          "output_type": "stream",
          "name": "stdout",
          "text": [
            "Vamos resolver juntos Qual é o campo elétrico a 0.2 m de uma carga de 2 μC? !\n",
            "\n",
            "\n"
          ]
        },
        {
          "output_type": "display_data",
          "data": {
            "text/plain": [
              "<IPython.core.display.Markdown object>"
            ],
            "text/markdown": "> *--- Resposta do **Agente 1**: (Interpretador) ---*"
          },
          "metadata": {}
        },
        {
          "output_type": "display_data",
          "data": {
            "text/plain": [
              "<IPython.core.display.Markdown object>"
            ],
            "text/markdown": "> Ok, vamos analisar este problema de física.\n> \n> 1.  **Análise do enunciado:** O problema pede para calcular o campo elétrico a uma certa distância de uma carga puntiforme.\n> \n> 2.  **Classificação do problema:** Eletrostática, especificamente cálculo de campo elétrico gerado por uma carga puntiforme.\n> \n> 3.  **Identificação e Extração de Variáveis e Constantes:**\n> \n>     *   Carga (q): 2 μC (micro Coulombs) = \\(2 \\times 10^{-6}\\) C\n>     *   Distância (r): 0.2 m\n>     *   Constante eletrostática de Coulomb (k): \\(8.99 \\times 10^{9} \\, \\text{N m}^2/\\text{C}^2\\)\n> \n> 4.  **Equações relevantes:**\n> \n>     *   Campo elétrico devido a uma carga puntiforme:\n> \n>         \\(E = k \\frac{|q|}{r^2}\\)\n> \n>         Onde:\n> \n>         *   \\(E\\) é a magnitude do campo elétrico.\n>         *   \\(k\\) é a constante eletrostática de Coulomb.\n>         *   \\(q\\) é a magnitude da carga.\n>         *   \\(r\\) é a distância da carga.\n> \n> 5.  **Abordagem metodológica sugerida:**\n> \n>     1.  Converter a carga de micro Coulombs (\\(\\mu\\)C) para Coulombs (C).\n>     2.  Usar a equação do campo elétrico para uma carga puntiforme.\n>     3.  Substituir os valores de \\(k\\), \\(q\\), e \\(r\\) na equação.\n>     4.  Calcular o valor do campo elétrico \\(E\\).\n>     5.  Expressar o resultado com a unidade correta (N/C ou V/m).\n> \n"
          },
          "metadata": {}
        },
        {
          "output_type": "stream",
          "name": "stdout",
          "text": [
            "-----------------------------------------------\n",
            "\n",
            "\n"
          ]
        },
        {
          "output_type": "display_data",
          "data": {
            "text/plain": [
              "<IPython.core.display.Markdown object>"
            ],
            "text/markdown": "> *--- Resposta do **Agente 2**: (Solucionador) ---*"
          },
          "metadata": {}
        },
        {
          "output_type": "display_data",
          "data": {
            "text/plain": [
              "<IPython.core.display.Markdown object>"
            ],
            "text/markdown": "> Ok, vamos seguir a abordagem metodológica para calcular o campo elétrico \\(E\\).\n> \n> 1.  **Cálculo do Campo Elétrico:**\n> \n>     *   Utilizando a fórmula:\n> \n>         \\(E = k \\frac{|q|}{r^2}\\)\n> \n>     *   Substituindo os valores:\n> \n>         \\(E = (8.99 \\times 10^{9} \\, \\text{N m}^2/\\text{C}^2) \\frac{|2 \\times 10^{-6} \\, \\text{C}|}{(0.2 \\, \\text{m})^2}\\)\n> \n>     *   Calculando:\n> \n>         \\(E = (8.99 \\times 10^{9}) \\frac{2 \\times 10^{-6}}{0.04}\\)\n> \n>         \\(E = (8.99 \\times 10^{9}) \\times (5 \\times 10^{-5})\\)\n> \n>         \\(E = 44.95 \\times 10^{4}\\)\n> \n>         \\(E = 4.495 \\times 10^{5} \\, \\text{N/C}\\)\n> \n> 2.  **Resultado Final:**\n> \n>     O campo elétrico a uma distância de 0.2 m de uma carga puntiforme de 2 μC é:\n> \n>     \\(E = 4.495 \\times 10^{5} \\, \\text{N/C}\\)\n> \n> Portanto, a magnitude do campo elétrico é de \\(4.495 \\times 10^{5}\\) N/C.\n"
          },
          "metadata": {}
        },
        {
          "output_type": "stream",
          "name": "stdout",
          "text": [
            "\n",
            "\n"
          ]
        },
        {
          "output_type": "display_data",
          "data": {
            "text/plain": [
              "<IPython.core.display.Markdown object>"
            ],
            "text/markdown": "> *--- Resposta do **Agente 3**: (Visualizador) ---*"
          },
          "metadata": {}
        },
        {
          "output_type": "display_data",
          "data": {
            "text/plain": [
              "<IPython.core.display.Markdown object>"
            ],
            "text/markdown": "> Para visualizar o campo elétrico calculado, podemos criar um diagrama que mostre a magnitude do campo elétrico em função da distância da carga puntiforme. Também podemos representar o campo elétrico como vetores em torno da carga.\n> \n> Aqui estão duas visualizações possíveis:\n> \n> 1.  **Gráfico da Magnitude do Campo Elétrico vs. Distância:**\n> \n>     Este gráfico mostrará como a magnitude do campo elétrico diminui com o aumento da distância da carga.\n> \n>     \n> ```python\n>     import matplotlib.pyplot as plt\n>     import numpy as np\n> \n>     # Constantes\n>     k = 8.99e9  # N m^2/C^2\n>     q = 2e-6    # C\n> \n>     # Distâncias\n>     r = np.linspace(0.1, 1, 100)  # Distâncias de 0.1m a 1m\n> \n>     # Calcula o campo elétrico\n>     E = k * abs(q) / r**2\n> \n>     # Cria o gráfico\n>     plt.figure(figsize=(10, 6))\n>     plt.plot(r, E, label='Campo Elétrico (E)')\n>     plt.xlabel('Distância (m)')\n>     plt.ylabel('Magnitude do Campo Elétrico (N/C)')\n>     plt.title('Magnitude do Campo Elétrico vs. Distância')\n>     plt.grid(True)\n>     plt.legend()\n>     plt.yscale('log')  # Escala logarítmica para melhor visualização\n>     plt.show()\n>     ```\n> \n> \n>     **Descrição:**\n> \n>     *   O gráfico mostra a magnitude do campo elétrico no eixo y e a distância da carga no eixo x.\n>     *   A escala logarítmica no eixo y ajuda a visualizar a rápida diminuição do campo elétrico com o aumento da distância.\n> \n> 2.  **Representação Vetorial do Campo Elétrico:**\n> \n>     Esta visualização mostrará vetores que representam a direção e magnitude do campo elétrico em diferentes pontos ao redor da carga.\n> \n>     \n> ```python\n>     import matplotlib.pyplot as plt\n>     import numpy as np\n> \n>     # Constantes\n>     k = 8.99e9  # N m^2/C^2\n>     q = 2e-6    # C\n> \n>     # Cria uma grade de pontos\n>     x, y = np.meshgrid(np.linspace(-0.5, 0.5, 20), np.linspace(-0.5, 0.5, 20))\n> \n>     # Calcula a distância de cada ponto à carga (assumindo que a carga está na origem)\n>     r = np.sqrt(x**2 + y**2)\n> \n>     # Evita a divisão por zero\n>     r[r == 0] = 1e-9\n> \n>     # Calcula as componentes do campo elétrico\n>     Ex = k * q * x / r**3\n>     Ey = k * q * y / r**3\n> \n>     # Cria o gráfico de vetores\n>     plt.figure(figsize=(8, 8))\n>     plt.quiver(x, y, Ex, Ey, angles='xy', scale_units='xy', scale=50000)\n>     plt.xlabel('x (m)')\n>     plt.ylabel('y (m)')\n>     plt.title('Campo Elétrico Vetorial ao Redor de uma Carga Puntiforme')\n>     plt.xlim(-0.5, 0.5)\n>     plt.ylim(-0.5, 0.5)\n>     plt.gca().set_aspect('equal', adjustable='box')\n>     plt.show()\n>     ```\n> \n> \n>     **Descrição:**\n> \n>     *   Este diagrama mostra vetores que indicam a direção e a magnitude do campo elétrico em vários pontos ao redor da carga.\n>     *   Os vetores apontam para fora da carga (já que a carga é positiva) e diminuem em magnitude à medida que a distância aumenta.\n>     *   A função `quiver` do Matplotlib é usada para desenhar os vetores.\n>     *   O argumento `scale` ajusta o tamanho dos vetores para melhor visualização.\n> \n> **Como Interpretar:**\n> \n> *   **Gráfico da Magnitude:** Observe a rápida queda na magnitude do campo elétrico à medida que a distância aumenta.\n> *   **Diagrama Vetorial:** Visualize a direção do campo elétrico (radialmente para fora para uma carga positiva) e a diminuição da magnitude (vetores mais curtos) à medida que você se afasta da carga.\n"
          },
          "metadata": {}
        },
        {
          "output_type": "stream",
          "name": "stdout",
          "text": [
            "\n",
            "\n"
          ]
        },
        {
          "output_type": "display_data",
          "data": {
            "text/plain": [
              "<IPython.core.display.Markdown object>"
            ],
            "text/markdown": "> *--- Resposta do **Agente 4**: (contextualizador) ---*"
          },
          "metadata": {}
        },
        {
          "output_type": "display_data",
          "data": {
            "text/plain": [
              "<IPython.core.display.Markdown object>"
            ],
            "text/markdown": "> ### 🌍 Contextualização e Aplicações:\n"
          },
          "metadata": {}
        },
        {
          "output_type": "display_data",
          "data": {
            "text/plain": [
              "<IPython.core.display.Markdown object>"
            ],
            "text/markdown": "> Olá! Vamos dar um mergulho profundo neste problema de eletrostática e descobrir como ele se encaixa no mundo real.\n> \n> Analisando o Problema:\n> \n> Este é um problema clássico de eletrostática, onde você precisa calcular o campo elétrico gerado por uma carga puntiforme. A eletrostática é o ramo da física que lida com as forças entre cargas elétricas em repouso.\n> \n> Aplicações Práticas:\n> \n> *   Engenharia Elétrica: No projeto de isoladores, capacitores e outros componentes eletrônicos, é crucial entender como as cargas elétricas interagem e como o campo elétrico se comporta em diferentes configurações.\n> *   Física de Partículas: Em aceleradores de partículas, campos elétricos são usados para acelerar e direcionar partículas carregadas.\n> *   Medicina: Em equipamentos de diagnóstico por imagem, como tomógrafos, campos elétricos são utilizados para manipular feixes de partículas carregadas.\n> *   Indústria: Na pintura eletrostática, utiliza-se o campo elétrico para atrair partículas de tinta para superfícies, garantindo uma cobertura uniforme e eficiente.\n> \n> Sugestões de Links de Universidades Federais:\n> \n> Para aprofundar seus conhecimentos, sugiro explorar estes recursos de universidades federais:\n> \n> 1.  **Universidade Federal do Rio Grande do Sul (UFRGS)**: Material sobre eletrostática e campos elétricos.\n>     *Link:* Busque por \"eletrostática UFRGS\" no Google para encontrar apostilas e notas de aula.\n> 2.  **Universidade Federal de Minas Gerais (UFMG)**: Notas de aula sobre eletromagnetismo.\n>     *Link:* Similarmente, procure por \"eletromagnetismo UFMG\" para acessar o conteúdo.\n> 3.  **Universidade Federal do Paraná (UFPR)**: Cursos de física básica com tópicos de eletrostática.\n>     *Link:* Procure por \"física básica eletrostática UFPR\" para encontrar materiais didáticos.\n> \n> Vídeo Complementar no YouTube:\n> \n> Para uma explicação visual e detalhada, recomendo este vídeo:\n> \n> *   **Título:** \"Campo Elétrico de uma Carga Puntiforme\"\n>     *Link:* Busque no YouTube por este título para encontrar vídeos explicativos.\n> \n> Exercícios Extras:\n> \n> Para praticar e aprimorar suas habilidades, aqui estão dois exercícios:\n> \n> 1.  **Nível Médio:**\n>     *   **Enunciado:** Duas cargas puntiformes, \\( q_1 = +3 \\mu C \\) e \\( q_2 = -4 \\mu C \\), estão separadas por uma distância de 0.5 m. Calcule a força elétrica entre elas.\n>     *   **Dica:** Use a Lei de Coulomb: \\[ F = k \\frac{|q_1 \\cdot q_2|}{r^2} \\]\n> 2.  **Desafiador:**\n>     *   **Enunciado:** Uma carga puntiforme de \\( +5 \\mu C \\) está localizada no centro de um cubo com aresta de 0.1 m. Calcule o fluxo elétrico através de uma das faces do cubo.\n>     *   **Dica:** Use a Lei de Gauss para relacionar o fluxo elétrico com a carga envolvida. Lembre-se que o fluxo total é distribuído igualmente pelas seis faces do cubo.\n> \n> Com esses recursos e exercícios, você estará bem equipado para dominar os conceitos de eletrostática e suas aplicações práticas!\n"
          },
          "metadata": {}
        }
      ]
    },
    {
      "cell_type": "code",
      "source": [
        " import matplotlib.pyplot as plt\n",
        " import numpy as np\n",
        "\n",
        "\n",
        " # Constantes\n",
        " k = 8.99e9  # N.m^2/C^2\n",
        " q = 2e-6  # C\n",
        "\n",
        "\n",
        " # Distâncias\n",
        " r = np.linspace(0.1, 1, 100)  # de 0.1m a 1m\n",
        "\n",
        "\n",
        " # Calcula o campo elétrico\n",
        " E = k * q / (r**2)\n",
        "\n",
        "\n",
        " # Cria o gráfico\n",
        " plt.figure(figsize=(10, 6))\n",
        " plt.plot(r, E, label='Campo Elétrico (E)')\n",
        " plt.xlabel('Distância (r) em metros')\n",
        " plt.ylabel('Campo Elétrico (E) em N/C')\n",
        " plt.title('Campo Elétrico vs. Distância de uma Carga Puntiforme')\n",
        " plt.grid(True)\n",
        " plt.legend()\n",
        " plt.show()"
      ],
      "metadata": {
        "colab": {
          "base_uri": "https://localhost:8080/",
          "height": 565
        },
        "id": "D3_bx-Q7ofUH",
        "outputId": "7af3b970-7296-451d-aa47-20ee1a0a0c4b"
      },
      "execution_count": 37,
      "outputs": [
        {
          "output_type": "display_data",
          "data": {
            "text/plain": [
              "<Figure size 1000x600 with 1 Axes>"
            ],
            "image/png": "[encoded data removed]"
          },
          "metadata": {}
        }
      ]
    },
    {
      "cell_type": "code",
      "source": [],
      "metadata": {
        "id": "yddxk6KBogHw"
      },
      "execution_count": 37,
      "outputs": []
    }
  ]
}