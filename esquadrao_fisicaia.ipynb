{
  "nbformat": 4,
  "nbformat_minor": 0,
  "metadata": {
    "colab": {
      "provenance": [],
      "authorship_tag": "ABX9TyMHqglUIkt0UnYjlwGVjTqi",
      "include_colab_link": true
    },
    "kernelspec": {
      "name": "python3",
      "display_name": "Python 3"
    },
    "language_info": {
      "name": "python"
    }
  },
  "cells": [
    {
      "cell_type": "markdown",
      "metadata": {
        "id": "view-in-github",
        "colab_type": "text"
      },
      "source": [
        "<a href=\"https://colab.research.google.com/github/hansufsm/FisicaIA/blob/main/esquadrao_fisicaia.ipynb\" target=\"_parent\"><img src=\"https://colab.research.google.com/assets/colab-badge.svg\" alt=\"Open In Colab\"/></a>"
      ]
    },
    {
      "cell_type": "markdown",
      "source": [
        "# 🎓 Projeto: Agentes IA para Estudantes Universitários\n",
        "---\n",
        "\n",
        "## 💡 Proposta: Sistema Colaborativo de Resolução de Problemas Físicos (Esquadrão Física IA)\n",
        "**🎯Objetivo**: Criar um sistema de múltiplos agentes que ajuda estudantes a resolver problemas complexos de física, especialmente em eletricidade e magnetismo, com visualização, explicação passo a passo e conexão com aplicações do"
      ],
      "metadata": {
        "id": "IUnlOaLlNHEr"
      }
    },
    {
      "cell_type": "markdown",
      "source": [
        "### Como Utilizar Este Notebook\n",
        "O notebook é dividido em blocos de código chamados \"células\". Você deve executar cada célula de cima para baixo, clicando no ícone ▶️ (play) ao lado dela.\n",
        "\n",
        "✅ Etapa 1: Instalar as bibliotecas\n",
        "\n",
        "Clique no botão ▶️ da primeira célula para instalar os pacotes necessários.\n",
        "\n",
        "✅ Etapa 2: Inserir a sua **API Key**\n",
        "\n",
        "Ao rodar essa célula, o notebook vai pedir que você cole a sua API Key do Google AI Studio.\n",
        "\n",
        "Ela é necessária para o agente funcionar.\n",
        "\n",
        "Se você não tem ainda:\n",
        "\n",
        "* Vá para Google AI Studio\n",
        "* Crie sua chave (grátis).\n",
        "* Copie e cole no campo solicitado.\n",
        "\n",
        "⚠️ Importante: Nunca cole sua chave direto no código nem compartilhe ela. Este notebook foi feito para usar a chave de forma segura.\n",
        "\n",
        "✅ Etapa 3: Início da Interação\n",
        "\n",
        "Assim que a API estiver conectada:\n",
        "\n",
        "Continue executando Clique no botão ▶️ das célular de códigos seguintes até chegar à célula [Principal](https://colab.research.google.com/drive/1BXuUflNOri4yG8IMimmcQ0tU-O3tX98V#scrollTo=mOsQgUG8SPx6).\n",
        "\n",
        "Clique no botão ▶️ da célula [Principal](https://colab.research.google.com/drive/1BXuUflNOri4yG8IMimmcQ0tU-O3tX98V#scrollTo=mOsQgUG8SPx6.) para iniciar a conversa\n",
        "\n",
        "---\n"
      ],
      "metadata": {
        "id": "Ck4tnceiYls0"
      }
    },
    {
      "cell_type": "code",
      "source": [
        "# Esquadrão FisicaIA - Sistema Colaborativo de Resolução de Problemas Físicos\n",
        "# Desenvolvido por Prof. Hans Rogério Zimermann\n",
        "# Implementação de 4 agentes especializados usando Gemini API\n",
        "# Projeto Desafio Imersão alura Maio 2025\n",
        "\n",
        "# ===== CONFIGURAÇÃO INICIAL =====\n",
        "\n",
        "# Instalação das bibliotecas necessárias\n",
        "!pip install -q google-generativeai genai streamlit matplotlib numpy pillow plotly\n",
        "\n",
        "import os\n",
        "from google import genai\n",
        "import json\n",
        "import time\n",
        "import numpy as np\n",
        "import matplotlib.pyplot as plt\n",
        "import base64\n",
        "from io import BytesIO\n",
        "import plotly.graph_objects as go\n",
        "from PIL import Image\n",
        "import re\n",
        "import threading\n",
        "import queue\n"
      ],
      "metadata": {
        "id": "2dLY1e7FPNvS",
        "colab": {
          "base_uri": "https://localhost:8080/"
        },
        "outputId": "2d93d8ce-0387-43db-e305-7fd1d13df260"
      },
      "execution_count": 4,
      "outputs": [
        {
          "output_type": "stream",
          "name": "stdout",
          "text": [
            "\u001b[2K     \u001b[90m━━━━━━━━━━━━━━━━━━━━━━━━━━━━━━━━━━━━━━━━\u001b[0m \u001b[32m44.3/44.3 kB\u001b[0m \u001b[31m2.4 MB/s\u001b[0m eta \u001b[36m0:00:00\u001b[0m\n",
            "\u001b[2K   \u001b[90m━━━━━━━━━━━━━━━━━━━━━━━━━━━━━━━━━━━━━━━━\u001b[0m \u001b[32m9.9/9.9 MB\u001b[0m \u001b[31m65.1 MB/s\u001b[0m eta \u001b[36m0:00:00\u001b[0m\n",
            "\u001b[2K   \u001b[90m━━━━━━━━━━━━━━━━━━━━━━━━━━━━━━━━━━━━━━━━\u001b[0m \u001b[32m831.1/831.1 kB\u001b[0m \u001b[31m32.8 MB/s\u001b[0m eta \u001b[36m0:00:00\u001b[0m\n",
            "\u001b[2K   \u001b[90m━━━━━━━━━━━━━━━━━━━━━━━━━━━━━━━━━━━━━━━━\u001b[0m \u001b[32m76.5/76.5 kB\u001b[0m \u001b[31m5.0 MB/s\u001b[0m eta \u001b[36m0:00:00\u001b[0m\n",
            "\u001b[2K   \u001b[90m━━━━━━━━━━━━━━━━━━━━━━━━━━━━━━━━━━━━━━━━\u001b[0m \u001b[32m6.9/6.9 MB\u001b[0m \u001b[31m33.1 MB/s\u001b[0m eta \u001b[36m0:00:00\u001b[0m\n",
            "\u001b[2K   \u001b[90m━━━━━━━━━━━━━━━━━━━━━━━━━━━━━━━━━━━━━━━━\u001b[0m \u001b[32m1.7/1.7 MB\u001b[0m \u001b[31m51.7 MB/s\u001b[0m eta \u001b[36m0:00:00\u001b[0m\n",
            "\u001b[2K   \u001b[90m━━━━━━━━━━━━━━━━━━━━━━━━━━━━━━━━━━━━━━━━\u001b[0m \u001b[32m79.1/79.1 kB\u001b[0m \u001b[31m4.9 MB/s\u001b[0m eta \u001b[36m0:00:00\u001b[0m\n",
            "\u001b[2K   \u001b[90m━━━━━━━━━━━━━━━━━━━━━━━━━━━━━━━━━━━━━━━━\u001b[0m \u001b[32m1.6/1.6 MB\u001b[0m \u001b[31m42.5 MB/s\u001b[0m eta \u001b[36m0:00:00\u001b[0m\n",
            "\u001b[2K   \u001b[90m━━━━━━━━━━━━━━━━━━━━━━━━━━━━━━━━━━━━━━━━\u001b[0m \u001b[32m85.4/85.4 kB\u001b[0m \u001b[31m5.2 MB/s\u001b[0m eta \u001b[36m0:00:00\u001b[0m\n",
            "\u001b[?25h\u001b[31mERROR: pip's dependency resolver does not currently take into account all the packages that are installed. This behaviour is the source of the following dependency conflicts.\n",
            "google-colab 1.0.0 requires ipython==7.34.0, but you have ipython 8.36.0 which is incompatible.\u001b[0m\u001b[31m\n",
            "\u001b[0m"
          ]
        }
      ]
    },
    {
      "cell_type": "code",
      "source": [
        "from google.colab import userdata\n",
        "import os\n",
        "os.environ['GOOGLE_API_KEY'] = userdata.get('GOOGLE_API_KEY')\n",
        "\n",
        "client = genai.Client()\n",
        "\n",
        "# Listando os Modelos\n",
        "\n",
        "#for model in client.models.list():\n",
        "#  print(model.name)\n",
        "\n",
        "# Criar uma variável para armazenar o Modelo a ser usado\n",
        "modelo = \"models/gemini-2.0-flash\""
      ],
      "metadata": {
        "id": "ccJiehkfPRJy"
      },
      "execution_count": 5,
      "outputs": []
    },
    {
      "cell_type": "code",
      "source": [
        "# Instalar Framework ADK de agentes do Google ##################################\n",
        "\n",
        "!pip install -q google-adk"
      ],
      "metadata": {
        "id": "hHUlHnZeP512",
        "colab": {
          "base_uri": "https://localhost:8080/"
        },
        "outputId": "3b3272f5-6f9a-448b-9980-ce4a1821a0c7"
      },
      "execution_count": 6,
      "outputs": [
        {
          "output_type": "stream",
          "name": "stdout",
          "text": [
            "\u001b[2K   \u001b[90m━━━━━━━━━━━━━━━━━━━━━━━━━━━━━━━━━━━━━━━━\u001b[0m \u001b[32m1.2/1.2 MB\u001b[0m \u001b[31m7.7 MB/s\u001b[0m eta \u001b[36m0:00:00\u001b[0m\n",
            "\u001b[2K   \u001b[90m━━━━━━━━━━━━━━━━━━━━━━━━━━━━━━━━━━━━━━━━\u001b[0m \u001b[32m232.1/232.1 kB\u001b[0m \u001b[31m9.1 MB/s\u001b[0m eta \u001b[36m0:00:00\u001b[0m\n",
            "\u001b[2K   \u001b[90m━━━━━━━━━━━━━━━━━━━━━━━━━━━━━━━━━━━━━━━━\u001b[0m \u001b[32m95.2/95.2 kB\u001b[0m \u001b[31m2.9 MB/s\u001b[0m eta \u001b[36m0:00:00\u001b[0m\n",
            "\u001b[2K   \u001b[90m━━━━━━━━━━━━━━━━━━━━━━━━━━━━━━━━━━━━━━━━\u001b[0m \u001b[32m217.1/217.1 kB\u001b[0m \u001b[31m7.1 MB/s\u001b[0m eta \u001b[36m0:00:00\u001b[0m\n",
            "\u001b[2K   \u001b[90m━━━━━━━━━━━━━━━━━━━━━━━━━━━━━━━━━━━━━━━━\u001b[0m \u001b[32m334.1/334.1 kB\u001b[0m \u001b[31m13.2 MB/s\u001b[0m eta \u001b[36m0:00:00\u001b[0m\n",
            "\u001b[2K   \u001b[90m━━━━━━━━━━━━━━━━━━━━━━━━━━━━━━━━━━━━━━━━\u001b[0m \u001b[32m125.1/125.1 kB\u001b[0m \u001b[31m8.3 MB/s\u001b[0m eta \u001b[36m0:00:00\u001b[0m\n",
            "\u001b[2K   \u001b[90m━━━━━━━━━━━━━━━━━━━━━━━━━━━━━━━━━━━━━━━━\u001b[0m \u001b[32m65.8/65.8 kB\u001b[0m \u001b[31m3.7 MB/s\u001b[0m eta \u001b[36m0:00:00\u001b[0m\n",
            "\u001b[2K   \u001b[90m━━━━━━━━━━━━━━━━━━━━━━━━━━━━━━━━━━━━━━━━\u001b[0m \u001b[32m119.0/119.0 kB\u001b[0m \u001b[31m2.5 MB/s\u001b[0m eta \u001b[36m0:00:00\u001b[0m\n",
            "\u001b[2K   \u001b[90m━━━━━━━━━━━━━━━━━━━━━━━━━━━━━━━━━━━━━━━━\u001b[0m \u001b[32m194.9/194.9 kB\u001b[0m \u001b[31m4.5 MB/s\u001b[0m eta \u001b[36m0:00:00\u001b[0m\n",
            "\u001b[2K   \u001b[90m━━━━━━━━━━━━━━━━━━━━━━━━━━━━━━━━━━━━━━━━\u001b[0m \u001b[32m62.5/62.5 kB\u001b[0m \u001b[31m3.7 MB/s\u001b[0m eta \u001b[36m0:00:00\u001b[0m\n",
            "\u001b[2K   \u001b[90m━━━━━━━━━━━━━━━━━━━━━━━━━━━━━━━━━━━━━━━━\u001b[0m \u001b[32m103.3/103.3 kB\u001b[0m \u001b[31m4.4 MB/s\u001b[0m eta \u001b[36m0:00:00\u001b[0m\n",
            "\u001b[2K   \u001b[90m━━━━━━━━━━━━━━━━━━━━━━━━━━━━━━━━━━━━━━━━\u001b[0m \u001b[32m44.4/44.4 kB\u001b[0m \u001b[31m1.9 MB/s\u001b[0m eta \u001b[36m0:00:00\u001b[0m\n",
            "\u001b[2K   \u001b[90m━━━━━━━━━━━━━━━━━━━━━━━━━━━━━━━━━━━━━━━━\u001b[0m \u001b[32m72.0/72.0 kB\u001b[0m \u001b[31m2.1 MB/s\u001b[0m eta \u001b[36m0:00:00\u001b[0m\n",
            "\u001b[?25h"
          ]
        }
      ]
    },
    {
      "cell_type": "code",
      "source": [
        "from google.adk.agents import Agent\n",
        "from google.adk.runners import Runner\n",
        "from google.adk.sessions import InMemorySessionService\n",
        "from google.adk.tools import google_search\n",
        "from google.genai import types  # Para criar conteúdos (Content e Part)\n",
        "from datetime import date\n",
        "import textwrap # Para formatar melhor a saída de texto\n",
        "from IPython.display import display, Markdown # Para exibir texto formatado no Colab\n",
        "import requests # Para fazer requisições HTTP\n",
        "import warnings\n",
        "\n",
        "warnings.filterwarnings(\"ignore\")"
      ],
      "metadata": {
        "id": "go2Pu7S7QUQE"
      },
      "execution_count": 7,
      "outputs": []
    },
    {
      "cell_type": "code",
      "source": [
        "# Função auxiliar que envia uma mensagem para um agente via Runner e retorna a resposta final\n",
        "def call_agent(agent: Agent, message_text: str) -> str:\n",
        "    # Cria um serviço de sessão em memória\n",
        "    session_service = InMemorySessionService()\n",
        "    # Cria uma nova sessão (você pode personalizar os IDs conforme necessário)\n",
        "    session = session_service.create_session(app_name=agent.name, user_id=\"user1\", session_id=\"session1\")\n",
        "    # Cria um Runner para o agente\n",
        "    runner = Runner(agent=agent, app_name=agent.name, session_service=session_service)\n",
        "    # Cria o conteúdo da mensagem de entrada\n",
        "    content = types.Content(role=\"user\", parts=[types.Part(text=message_text)])\n",
        "\n",
        "    final_response = \"\"\n",
        "    # Itera assincronamente pelos eventos retornados durante a execução do agente\n",
        "    for event in runner.run(user_id=\"user1\", session_id=\"session1\", new_message=content):\n",
        "        if event.is_final_response():\n",
        "          for part in event.content.parts:\n",
        "            if part.text is not None:\n",
        "              final_response += part.text\n",
        "              final_response += \"\\n\"\n",
        "    return final_response"
      ],
      "metadata": {
        "id": "0rfQhi17QW8z"
      },
      "execution_count": 8,
      "outputs": []
    },
    {
      "cell_type": "code",
      "source": [
        "# Função auxiliar para exibir texto formatado em Markdown no Colab\n",
        "def to_markdown(text):\n",
        "  text = text.replace('•', '  *')\n",
        "  return Markdown(textwrap.indent(text, '> ', predicate=lambda _: True))"
      ],
      "metadata": {
        "id": "JAr4OXCZQaLT"
      },
      "execution_count": 9,
      "outputs": []
    },
    {
      "cell_type": "code",
      "source": [
        "# Definição dos Agentes\n",
        "\n",
        "################################################\n",
        "# --- Agente 1: Interpretador de Problemas --- #\n",
        "################################################\n",
        "def agente_interpretador(topico):\n",
        "  interpretador = Agent(\n",
        "      name=\"agente_interpretador_de_problemas\",\n",
        "      model=\"gemini-2.0-flash\",\n",
        "      instruction=\"\"\"\n",
        "      Você é um Agente Interpretador de Problemas de Física especializado em analisar enunciados.\n",
        "      Sua função é:\n",
        "      1. Analisar o enunciado do problema\n",
        "      2. Classificar o tipo de problema (eletrostática, circuitos, magnetismo, etc.)\n",
        "      3. Identificar e Extrair todas as variáveis, constantes e unidades mencionadas\n",
        "      4. Listar as equações relevantes para a solução\n",
        "      5. Sugerir uma abordagem didática e metodológica para resolver o problema\n",
        "\n",
        "      Use o formato latex quando envolver expressões matemáticas. Quando for o caso ou possível, jamais usando equações inline, sempre em nova linha..\n",
        "\n",
        "      \"\"\",\n",
        "      description=\"Interpretador de Problemas sobre o tópico indicado\",\n",
        "      tools=[google_search]\n",
        "  )\n",
        "\n",
        "  entrada_do_agente_interpretador = f\"Tópico: {topico}\\n\"\n",
        "  # Executa o agente\n",
        "  interpretacao_do_problema = call_agent(interpretador, entrada_do_agente_interpretador)\n",
        "  return interpretacao_do_problema\n",
        "\n",
        "################################################\n",
        "# --- Agente 2: Interpretador de Problemas --- #\n",
        "################################################\n",
        "# O Agente Solucionador desenvolve a solução matemática\n",
        "\n",
        "def agente_solucionador(topico):\n",
        "    solucionador = Agent(\n",
        "        name=\"agente_solucionador\",\n",
        "        model=\"gemini-2.0-flash\",\n",
        "        # Inserir as instruções do Agente Planejador #################################################\n",
        "        # Definição do papel do solucionador\n",
        "        instruction=\"\"\"\n",
        "        Você é um Agente Solucionador Matemático especializado em física.\n",
        "        Sua função é:\n",
        "        1. Desenvolver a solução matemática passo a passo\n",
        "        2. Realizar todos os cálculos e manipulações algébricas necessárias\n",
        "        3. Verificar as unidades e consistência dimensional\n",
        "        4. Fornecer o resultado final com unidades corretas\n",
        "\n",
        "        Use o formato latex quando envolver expressões matemáticas. Quando for o caso ou possível.\n",
        "        \"\"\",\n",
        "        description=\"Agente solucionador\",\n",
        "        tools=[google_search]\n",
        "    )\n",
        "\n",
        "    entrada_do_agente_solucionador = f\"\\n\\nEnunciado: {topico}\\n\"\n",
        "    # Executa o agente\n",
        "    plano_de_solucao = call_agent(solucionador, entrada_do_agente_solucionador)\n",
        "    return plano_de_solucao\n",
        "\n",
        "################################################\n",
        "# --- Agente 3: Visualizador de problemas  --- #\n",
        "################################################\n",
        "# O Agente Visualizador cria representações visuais\n",
        "\n",
        "def agente_visualizador(topico):\n",
        "    visualizador = Agent(\n",
        "        name=\"agente_visualizador\",\n",
        "        model=\"gemini-2.0-flash\",\n",
        "        # Inserir as instruções do Agente Planejador #################################################\n",
        "        # Definição do papel do solucionador\n",
        "        instruction=\"\"\"\n",
        "        Você é um Agente Especialista e Visualização de dados, especializado em criar representações visuais de diversos problemas de física.\n",
        "        Use o formato latex quando envolver expressões matemáticas. Quando for o caso ou possível. Use linguagem profissional e didática.\n",
        "        Sua função é:\n",
        "        1. Criar representações visuais do problema (diagramas de circuitos, campos, etc.)\n",
        "        2. Gerar gráficos interativos para visualizar relações entre variáveis\n",
        "        3. Produzir animações simples para demonstrar conceitos dinâmicos\n",
        "        4. Adaptar visualizações para diferentes estilos de aprendizagem\n",
        "        5. Gerar código Python para criar diagramas, gráficos ou visualizações relevantes\n",
        "        6. Adaptar as visualizações ao tipo específico de problema\n",
        "        7. Garantir que as visualizações sejam claras e informativas\n",
        "\n",
        "        Formate sua resposta com blocos de código Python executáveis usando matplotlib, plotly ou outras bibliotecas.\n",
        "        Inclua também uma descrição do que cada visualização representa.\n",
        "\n",
        "        Para cada visualização, forneça:\n",
        "        1. Uma descrição do que está sendo visualizado\n",
        "        2. O código Python completo para gerar a visualização\n",
        "        3. Uma explicação de como interpretar a visualização\n",
        "        \"\"\",\n",
        "        description=\"Agente visualizador\",\n",
        "        tools=[google_search]\n",
        "    )\n",
        "\n",
        "    entrada_do_agente_visualizador = f\"\\nVisualização: {topico}\\n\"\n",
        "    # Executa o agente\n",
        "    plano_de_visualizacao = call_agent(visualizador, entrada_do_agente_visualizador)\n",
        "    return plano_de_visualizacao\n",
        "\n",
        "################################################\n",
        "# --- Agente 3: Visualizador de problemas  --- #\n",
        "################################################\n",
        "# O Agente Contextualizador adiciona aplicações práticas\n",
        "\n",
        "def agente_contextualizador(topico):\n",
        "    contextualizador = Agent(\n",
        "        name=\"agente_contextualizador\",\n",
        "        model=\"gemini-2.0-flash\",\n",
        "        # Inserir as instruções do Agente Planejador #################################################\n",
        "        # Definição do papel do solucionador\n",
        "        instruction=\"\"\"\n",
        "\n",
        "Claro! Aqui estão algumas sugestões para aprimorar o prompt, tornando-o mais claro e eficaz:\n",
        "\n",
        "Especificar Detalhes do Contexto:\n",
        "\n",
        "Incluir exemplos de como as aplicações práticas podem ser ligadas a situações do dia a dia.\n",
        "Links e Recursos de Qualidade:\n",
        "\n",
        "Especificar critérios para a seleção de links e vídeos, como autoridade e clareza das fontes.\n",
        "Formatar Saídas:\n",
        "\n",
        "Detalhar como as informações devem ser organizadas, possivelmente com uma estrutura padronizada para cada tipo de resposta (análise, links, exercícios).\n",
        "Feedback e Revisão:\n",
        "\n",
        "Incluir um passo para revisão do conteúdo gerado, garantindo precisão e relevância.\n",
        "Interatividade:\n",
        "\n",
        "Considerar somar algum aspecto interativo, como opções para o estudante explorar diferentes níveis de dificuldade ou temas.\n",
        "Reformulação do Prompt:\n",
        "\n",
        "Você é um Agente Contextualizador de Problemas de Física especializado em analisar enunciados e adicionar aplicações práticas. Sua função é:\n",
        "\n",
        "Análise e Contextualização:\n",
        "\n",
        "Identificar a área da Física envolvida no problema.\n",
        "Adicionar aplicações práticas e exemplos concretos do dia a dia para tornar o conceito mais tangível.\n",
        "Recursos Educativos:\n",
        "\n",
        "Sugerir pelo menos três links para aprofundamento, hospedados em universidades federais, com foco em qualidade e clareza.\n",
        "Propor um vídeo do YouTube de qualidade que complemente o aprendizado, escolhendo fontes confiáveis e reconhecidas.\n",
        "Exercícios Práticos:\n",
        "\n",
        "Propor um exercício de nível médio e outro desafiador, com soluções comentadas quando possível para feedback imediato.\n",
        "Apresentação e Claridade:\n",
        "\n",
        "Utilizar LaTeX para expressões matemáticas, garantindo clareza e apresentação didática, jamais usando equações inline, sempre em nova linha.\n",
        "Empregar emojis de forma moderada para destacar pontos cruciais e manter o engajamento.\n",
        "        \"\"\",\n",
        "        description=\"Agente contextualizador\",\n",
        "        tools=[google_search]\n",
        "    )\n",
        "\n",
        "    entrada_do_agente_contextualizador = f\"\\nContexto: {topico}\\n\"\n",
        "    # Executa o agente\n",
        "    plano_de_contexto = call_agent(contextualizador, entrada_do_agente_contextualizador)\n",
        "    return plano_de_contexto\n"
      ],
      "metadata": {
        "id": "Czy_Sw9NQcaT"
      },
      "execution_count": 20,
      "outputs": []
    },
    {
      "cell_type": "markdown",
      "source": [
        "# Principal"
      ],
      "metadata": {
        "id": "mOsQgUG8SPx6"
      }
    },
    {
      "cell_type": "code",
      "source": [
        "display(to_markdown(\"### 🚀 Iniciando o Sistema Colaborativo de Resolução de Problemas Físicos com 4 Agentes (🤖 - Esquadrão Física IA)\"))\n",
        "\n",
        "# --- Obter o Tópico do Usuário ---\n",
        "#\\n Um circuito elétrico contém uma bateria de 12V e um resistor de 4 ohms. Qual é a corrente no circuito?\n",
        "topico = input(\"❓ Por favor, digite o enuciado do problema de Física: \\n Exemplo: Qual é o campo elétrico a 0.2 m de uma carga de 2 μC? \")\n",
        "\n",
        "# Inserir lógica do sistema de agentes ################################################\n",
        "\n",
        "if not topico:\n",
        "  print(\"Por favor informe um enunciado!\")\n",
        "else:\n",
        "  display(to_markdown(\"## 👏 Ótimo \"))\n",
        "  print(f\"Vamos resolver juntos: - {topico}!\")\n",
        "\n",
        "# Dicas:\n",
        "# Qual é o campo elétrico a 0.2 m de uma carga de 2 μC?\n",
        "#\n",
        "\n",
        "  # alimenta o Agente 1 - agente_interpretador() com o problema (topico)\n",
        "  problema_fisica = agente_interpretador(topico)\n",
        "  print(\"\\n\")\n",
        "  display(to_markdown(\"*--- Resposta do **Agente 1**: (Interpretador) ---*\"))\n",
        "  display(to_markdown(problema_fisica))\n",
        "  print(\"-----------------------------------------------\")\n",
        "\n",
        "  # alimenta o Agente 2 - agente_solucionador() com a resposta do Agente 1 (problema_fisica)\n",
        "  plano_de_solucao = agente_solucionador(problema_fisica)\n",
        "  print(\"\\n\")\n",
        "  display(to_markdown(\"*--- Resposta do **Agente 2**: (Solucionador) ---*\"))\n",
        "  display(to_markdown(plano_de_solucao))\n",
        "\n",
        "  # alimenta o Agente 3 - agente_visualizador() com a resposta do Agente 2 (plano_de_solucao)\n",
        "  plano_de_visualizacao = agente_visualizador(plano_de_solucao)\n",
        "  print(\"\\n\")\n",
        "  display(to_markdown(\"*--- Resposta do **Agente 3**: (Visualizador) ---*\"))\n",
        "  display(to_markdown(plano_de_visualizacao))\n",
        "\n",
        "  # alimenta o Agente 4 - agente_contextualizador() com a resposta do Agente 1 (problema_fisica)\n",
        "  plano_de_contexto = agente_contextualizador(problema_fisica)\n",
        "  print(\"\\n\")\n",
        "  display(to_markdown(\"*--- Resposta do **Agente 4**: (contextualizador) ---*\"))\n",
        "  display(to_markdown(\"### 🌍 Contextualização e Aplicações:\\n\"))\n",
        "  display(to_markdown(plano_de_contexto))\n",
        "\n"
      ],
      "metadata": {
        "id": "-S8zBFALSSYT",
        "colab": {
          "base_uri": "https://localhost:8080/",
          "height": 1000
        },
        "outputId": "49b7bfff-f7e8-487c-9f88-61a1e6208f6b"
      },
      "execution_count": 25,
      "outputs": [
        {
          "output_type": "display_data",
          "data": {
            "text/plain": [
              "<IPython.core.display.Markdown object>"
            ],
            "text/markdown": "> ### 🚀 Iniciando o Sistema Colaborativo de Resolução de Problemas Físicos com 4 Agentes (🤖 - Esquadrão Física IA)"
          },
          "metadata": {}
        },
        {
          "name": "stdout",
          "output_type": "stream",
          "text": [
            "❓ Por favor, digite o enuciado do problema de Física: \n",
            " Exemplo: Qual é o campo elétrico a 0.2 m de uma carga de 2 μC? display(to_markdown(plano_de_contexto))\n"
          ]
        },
        {
          "output_type": "display_data",
          "data": {
            "text/plain": [
              "<IPython.core.display.Markdown object>"
            ],
            "text/markdown": "> ## 👏 Ótimo "
          },
          "metadata": {}
        },
        {
          "output_type": "stream",
          "name": "stdout",
          "text": [
            "Vamos resolver juntos: - display(to_markdown(plano_de_contexto))!\n",
            "\n",
            "\n"
          ]
        },
        {
          "output_type": "display_data",
          "data": {
            "text/plain": [
              "<IPython.core.display.Markdown object>"
            ],
            "text/markdown": "> *--- Resposta do **Agente 1**: (Interpretador) ---*"
          },
          "metadata": {}
        },
        {
          "output_type": "display_data",
          "data": {
            "text/plain": [
              "<IPython.core.display.Markdown object>"
            ],
            "text/markdown": "> Ok, estou pronto para analisar problemas de física e fornecer uma análise detalhada conforme descrito. Por favor, apresente o problema que você gostaria que eu analisasse.\n> \n"
          },
          "metadata": {}
        },
        {
          "output_type": "stream",
          "name": "stdout",
          "text": [
            "-----------------------------------------------\n",
            "\n",
            "\n"
          ]
        },
        {
          "output_type": "display_data",
          "data": {
            "text/plain": [
              "<IPython.core.display.Markdown object>"
            ],
            "text/markdown": "> *--- Resposta do **Agente 2**: (Solucionador) ---*"
          },
          "metadata": {}
        },
        {
          "output_type": "display_data",
          "data": {
            "text/plain": [
              "<IPython.core.display.Markdown object>"
            ],
            "text/markdown": "> Por favor, forneça o problema de física que você gostaria que eu resolvesse. Inclua todos os detalhes relevantes, como valores numéricos, unidades e o que você está tentando encontrar. Quanto mais informações você fornecer, melhor poderei ajudá-lo.\n> \n"
          },
          "metadata": {}
        },
        {
          "output_type": "stream",
          "name": "stdout",
          "text": [
            "\n",
            "\n"
          ]
        },
        {
          "output_type": "display_data",
          "data": {
            "text/plain": [
              "<IPython.core.display.Markdown object>"
            ],
            "text/markdown": "> *--- Resposta do **Agente 3**: (Visualizador) ---*"
          },
          "metadata": {}
        },
        {
          "output_type": "display_data",
          "data": {
            "text/plain": [
              "<IPython.core.display.Markdown object>"
            ],
            "text/markdown": "> Okay, para começar, preciso que você me apresente um problema de física específico que você gostaria que eu visualizasse. Por favor, forneça o problema com o máximo de detalhes possível, incluindo:\n> \n> *   **A descrição detalhada do problema:** Qual é a situação física que você quer analisar? (Ex: movimento de um projétil, circuito elétrico, etc.)\n> *   **Valores numéricos:** Quais são os valores das grandezas envolvidas? (Ex: velocidade inicial, resistência, massa, etc.)\n> *   **Unidades:** Quais são as unidades de medida de cada grandeza? (Ex: metros, segundos, ohms, etc.)\n> *   **O que você quer encontrar:** Qual é a incógnita que você precisa determinar? (Ex: alcance máximo, corrente elétrica, energia potencial, etc.)\n> *   **Quais visualizações seriam mais úteis:** Você tem alguma ideia de que tipo de gráfico ou animação seria mais útil para entender o problema?\n> \n> Com essas informações, posso criar visualizações claras e informativas para ajudá-lo a entender e resolver o problema.\n> \n"
          },
          "metadata": {}
        },
        {
          "output_type": "stream",
          "name": "stdout",
          "text": [
            "\n",
            "\n"
          ]
        },
        {
          "output_type": "display_data",
          "data": {
            "text/plain": [
              "<IPython.core.display.Markdown object>"
            ],
            "text/markdown": "> *--- Resposta do **Agente 4**: (contextualizador) ---*"
          },
          "metadata": {}
        },
        {
          "output_type": "display_data",
          "data": {
            "text/plain": [
              "<IPython.core.display.Markdown object>"
            ],
            "text/markdown": "> ### 🌍 Contextualização e Aplicações:\n"
          },
          "metadata": {}
        },
        {
          "output_type": "display_data",
          "data": {
            "text/plain": [
              "<IPython.core.display.Markdown object>"
            ],
            "text/markdown": "> Perfeito! Vamos começar com este problema:\n> \n> Um bloco de gelo de 2 kg, inicialmente a -10°C, recebe calor até se transformar completamente em água a 20°C. Calcule a quantidade total de calor que o bloco de gelo absorve durante este processo.\n> \n> Dados:\n> *   Calor específico do gelo: $c_{gelo} = 2100 \\, \\text{J/(kg} \\cdot \\text{°C)}$\n> *   Calor latente de fusão do gelo: $L_f = 334 \\times 10^3 \\, \\text{J/kg}$\n> *   Calor específico da água: $c_{água} = 4186 \\, \\text{J/(kg} \\cdot \\text{°C)}$\n> \n> Analise este problema, detalhando as etapas, fornecendo links úteis, um vídeo explicativo e exercícios adicionais para praticar. Estou ansioso para ver sua análise!\n> \n"
          },
          "metadata": {}
        },
        {
          "output_type": "stream",
          "name": "stdout",
          "text": [
            "Perfeito! Vamos começar com este problema:\n",
            "\n",
            "Um bloco de gelo de 2 kg, inicialmente a -10°C, recebe calor até se transformar completamente em água a 20°C. Calcule a quantidade total de calor que o bloco de gelo absorve durante este processo.\n",
            "\n",
            "Dados:\n",
            "*   Calor específico do gelo: $c_{gelo} = 2100 \\, \\text{J/(kg} \\cdot \\text{°C)}$\n",
            "*   Calor latente de fusão do gelo: $L_f = 334 \\times 10^3 \\, \\text{J/kg}$\n",
            "*   Calor específico da água: $c_{água} = 4186 \\, \\text{J/(kg} \\cdot \\text{°C)}$\n",
            "\n",
            "Analise este problema, detalhando as etapas, fornecendo links úteis, um vídeo explicativo e exercícios adicionais para praticar. Estou ansioso para ver sua análise!\n",
            "\n",
            "\n"
          ]
        }
      ]
    },
    {
      "cell_type": "code",
      "source": [
        " import matplotlib.pyplot as plt\n",
        " import numpy as np\n",
        "\n",
        "\n",
        " # Constantes\n",
        " k = 8.99e9  # N.m^2/C^2\n",
        " q = 2e-6  # C\n",
        "\n",
        "\n",
        " # Distâncias\n",
        " r = np.linspace(0.1, 1, 100)  # de 0.1m a 1m\n",
        "\n",
        "\n",
        " # Calcula o campo elétrico\n",
        " E = k * q / (r**2)\n",
        "\n",
        "\n",
        " # Cria o gráfico\n",
        " plt.figure(figsize=(10, 6))\n",
        " plt.plot(r, E, label='Campo Elétrico (E)')\n",
        " plt.xlabel('Distância (r) em metros')\n",
        " plt.ylabel('Campo Elétrico (E) em N/C')\n",
        " plt.title('Campo Elétrico vs. Distância de uma Carga Puntiforme')\n",
        " plt.grid(True)\n",
        " plt.legend()\n",
        " plt.show()"
      ],
      "metadata": {
        "id": "D3_bx-Q7ofUH"
      },
      "execution_count": null,
      "outputs": []
    },
    {
      "cell_type": "code",
      "source": [
        "import numpy as np\n",
        "import matplotlib.pyplot as plt\n",
        "\n",
        "# Constantes\n",
        "k = 8.9875e9  # N m^2/C^2\n",
        "q = 2e-6      # C\n",
        "r = 0.2       # m\n",
        "E = 449375    # N/C (calculado)\n",
        "\n",
        "# Criação do gráfico\n",
        "fig, ax = plt.subplots(figsize=(8, 8))\n",
        "\n",
        "# Desenha a carga no centro\n",
        "ax.plot(0, 0, 'ro', markersize=10, label='Carga q')\n",
        "\n",
        "# Cria vetores de campo elétrico\n",
        "num_arrows = 20\n",
        "for i in range(num_arrows):\n",
        "    theta = 2 * np.pi * i / num_arrows\n",
        "    x = r * np.cos(theta)\n",
        "    y = r * np.sin(theta)\n",
        "\n",
        "    # Normaliza o vetor para um tamanho visualmente agradável\n",
        "    scale = 0.1\n",
        "    dx = scale * np.cos(theta)\n",
        "    dy = scale * np.sin(theta)\n",
        "\n",
        "    ax.arrow(0, 0, x, y, head_width=0.05, head_length=0.1, fc='blue', ec='blue', alpha=0.5)\n",
        "\n",
        "# Configurações do gráfico\n",
        "ax.set_xlim(-0.5, 0.5)\n",
        "ax.set_ylim(-0.5, 0.5)\n",
        "ax.set_xlabel('x (m)')\n",
        "ax.set_ylabel('y (m)')\n",
        "ax.set_title('Campo Elétrico ao Redor de uma Carga Pontual')\n",
        "ax.grid(True)\n",
        "ax.legend()\n",
        "\n",
        "plt.show()"
      ],
      "metadata": {
        "id": "zwmf_RoA5PNe"
      },
      "execution_count": null,
      "outputs": []
    }
  ]
}